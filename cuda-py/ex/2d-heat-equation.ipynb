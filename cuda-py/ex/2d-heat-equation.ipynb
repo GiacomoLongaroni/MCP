{
 "cells": [
  {
   "cell_type": "markdown",
   "metadata": {},
   "source": [
    "# Simulating Heat Diffusion to Cook a Chicken with Numba and CUDA\n",
    "\n",
    "In this notebook, we'll attemp tolving the 2-dimensional heat equation to simulate how heat diffuses through a chicken as it cooks in the oven. \n",
    "\n",
    "To start, we'll use a simplified 2D representation of a chicken."
   ]
  },
  {
   "cell_type": "code",
   "execution_count": null,
   "metadata": {},
   "outputs": [],
   "source": [
    "import numpy as np\n",
    "from numba import cuda, njit, prange\n",
    "import matplotlib.pyplot as plt\n",
    "\n",
    "# Load the 2D image representation of the chicken\n",
    "image = plt.imread('chicken.png')\n",
    "height, width = image.shape\n",
    "plt.imshow(image)\n",
    "plt.colorbar()"
   ]
  },
  {
   "cell_type": "markdown",
   "metadata": {},
   "source": [
    "To simulate heat diffusion in our 2D \"chicken\" grid, we'll assume that:\n",
    "\n",
    "- The oven has a width of 50 cm.\n",
    "- The oven temperature is set to 200°C.\n",
    "- The chicken's initial internal temperature is 20°C.\n",
    "- Heat diffusion across the chicken will be governed by the 2D heat equation.\n",
    "\n",
    "Given the temperature field $u = u(x, y, z; t)$, the heat equation describing the change over time is:\n",
    "$$\n",
    "\\frac{\\partial u}{\\partial t} = \\alpha \\nabla^2 u \n",
    "$$\n",
    "\n",
    "where:\n",
    "- $\\alpha$ is the thermal diffusivity of the chicken, in units of $m^2/s$.\n",
    "  \n",
    "For chicken, $\\alpha$ has been measured (!) to be approximately $1.32 \\times 10^{-7} \\, \\text{m}^2/\\text{s} $, allowing us to model how heat penetrates and warms the chicken over time."
   ]
  },
  {
   "cell_type": "markdown",
   "metadata": {},
   "source": [
    "To simulate heat transfer over time, we'll need to update the temperature of each \"pixel\" representing the chicken at each time step.\n",
    "\n",
    "### Simulation Parameters\n",
    "- Total simulation time: 1 hour\n",
    "- Time step: $\\Delta t = 1 \\, \\text{s}$\n",
    "\n",
    "### Discretizing the Heat Equation\n",
    "\n",
    "The continuous heat equation can be expressed as:\n",
    "$$\n",
    "\\frac{\\partial u}{\\partial t} = \\alpha \\left( \\frac{\\partial^2 u}{\\partial x^2} + \\frac{\\partial^2 u}{\\partial y^2} \\right)\n",
    "$$\n",
    "\n",
    "To implement this, we discretize the equation in both time and space.\n",
    "\n",
    "Let $u_{i,j}^{\\tau}$ represent the temperature at pixel $(i, j)$ at time $\\tau$. The discrete form of the equation then becomes:\n",
    "\n",
    "$$\n",
    "\\frac{u_{i,j}^{\\tau+1} - u_{i,j}^{\\tau}}{\\Delta t} = \\alpha \\left( \\frac{u_{i+1,j}^{\\tau} - 2u_{i,j}^{\\tau} + u_{i-1,j}^{\\tau}}{\\Delta x^2} + \\frac{u_{i,j+1}^{\\tau} - 2u_{i,j}^{\\tau} + u_{i,j-1}^{\\tau}}{\\Delta y^2} \\right)\n",
    "$$\n",
    "\n",
    "This formulation allows us to iteratively update each pixel's temperature at every time step."
   ]
  },
  {
   "cell_type": "markdown",
   "metadata": {},
   "source": [
    "To update the temperature field at the next time step $\\tau+1$, we use the current state of the temperature field at time $\\tau$.\n",
    "\n",
    "Assuming that each pixel represents an equal spatial step size along both $x(i)$ and $y(j)$ axes, we set $\\Delta x = \\Delta y = \\Delta s$.\n",
    "\n",
    "The update rule for each pixel $(i, j)$ at time $\\tau+1$ then becomes:\n",
    "\n",
    "$$\n",
    "u_{i,j}^{\\tau+1} = u_{i,j}^{\\tau} + \\alpha \\frac{\\Delta t}{\\Delta s^2} \\left( u_{i+1,j}^{\\tau} + u_{i-1,j}^{\\tau} + u_{i,j+1}^{\\tau} + u_{i,j-1}^{\\tau} - 4u_{i,j}^{\\tau} \\right)\n",
    "$$\n",
    "\n",
    "This equation allows us to iteratively compute the temperature at each pixel for the next time step, based on its current state and the temperatures of its neighboring pixels."
   ]
  },
  {
   "cell_type": "markdown",
   "metadata": {},
   "source": [
    "This is finally the equation we would like to solve for all pixels of our chicken and for all timesteps."
   ]
  },
  {
   "cell_type": "code",
   "execution_count": null,
   "metadata": {},
   "outputs": [],
   "source": [
    "# Create a mask to identify the \"chicken\" pixels within the image\n",
    "# Here, pixels with values less than 0.9 are considered part of the chicken\n",
    "mask = image < 0.9\n",
    "\n",
    "# Display the mask to verify which pixels belong to the chicken\n",
    "plt.imshow(mask, cmap='gray')\n",
    "plt.title(\"Chicken Pixel Mask\")\n",
    "plt.show()"
   ]
  },
  {
   "cell_type": "code",
   "execution_count": null,
   "metadata": {},
   "outputs": [],
   "source": [
    "# Initialize the temperature field\n",
    "T_oven = 200.0  # Oven temperature in degrees Celsius\n",
    "T_chicken = 20.0  # Initial chicken temperature in degrees Celsius\n",
    "\n",
    "# Create a 2D array representing the temperature field, setting all pixels initially to the oven temperature\n",
    "T_initial = np.full((height, width), T_oven, dtype=np.float32)\n",
    "\n",
    "# Set the initial temperature of the chicken pixels based on the mask\n",
    "T_initial[mask] = T_chicken\n",
    "\n",
    "# Display the initial temperature distribution\n",
    "plt.imshow(T_initial, cmap='coolwarm', vmin=T_chicken, vmax=T_oven)\n",
    "plt.colorbar(label=\"Temperature (°C)\")\n",
    "plt.title(\"Initial Temperature Field of Chicken in Oven\")\n",
    "plt.show()"
   ]
  },
  {
   "cell_type": "code",
   "execution_count": 6,
   "metadata": {},
   "outputs": [],
   "source": [
    "# Parameters for the heat equation\n",
    "oven_width = 0.5                # Width of the oven in meters\n",
    "alpha = 1.32e-7                 # Thermal diffusivity of chicken in m^2/s\n",
    "dx = oven_width / width         # Spatial step size in meters (based on pixel size)\n",
    "dt = 1.0                        # Time step size in seconds\n",
    "time = 3600.0                   # Total cooking time in seconds (1 hour)\n",
    "num_steps = int(time / dt)      # Total number of time steps\n",
    "\n",
    "# Precompute constant factor for the heat equation to simplify computation\n",
    "dt_dx2 = dt / (dx ** 2)         # This factor is used frequently in the update equation"
   ]
  },
  {
   "cell_type": "markdown",
   "metadata": {},
   "source": [
    "## Numba CPU implementation\n",
    "\n",
    "Write the purely-CPU implementation of the task using Numba"
   ]
  },
  {
   "cell_type": "code",
   "execution_count": 7,
   "metadata": {},
   "outputs": [],
   "source": [
    "# Numba heat equation function on CPU\n",
    "@njit(parallel=True)\n",
    "def heat_equation_cpu(Temp, Mask, Alpha, Dt_dx2, Num_steps):\n",
    "    \"\"\"\n",
    "    Simulates heat diffusion over time on the CPU using Numba.\n",
    "\n",
    "    Parameters:\n",
    "    - Temp: 2D array representing the temperature field.\n",
    "    - Mask: 2D boolean array indicating chicken pixels.\n",
    "    - Alpha: Thermal diffusivity of the material (m^2/s).\n",
    "    - Dt_dx2: Precomputed constant value for the heat equation.\n",
    "    - Num_steps: Total number of time steps to simulate.\n",
    "\n",
    "    Returns:\n",
    "    - Updated temperature field after simulation.\n",
    "    \"\"\"\n",
    "\n",
    "    ...\n",
    "\n",
    "    return Temp"
   ]
  },
  {
   "cell_type": "code",
   "execution_count": 8,
   "metadata": {},
   "outputs": [],
   "source": [
    "# Run the simulation on the CPU\n",
    "T_final = heat_equation_cpu(T_initial, mask, alpha, dt_dx2, num_steps)"
   ]
  },
  {
   "cell_type": "code",
   "execution_count": null,
   "metadata": {},
   "outputs": [],
   "source": [
    "# Display the final temperature distribution after simulation\n",
    "plt.imshow(T_final, cmap='coolwarm', vmin=T_chicken, vmax=T_oven)\n",
    "plt.colorbar(label=\"Temperature (°C)\")\n",
    "plt.title(\"Final Temperature Distribution of the Chicken After Cooking\")\n",
    "plt.show()"
   ]
  },
  {
   "cell_type": "markdown",
   "metadata": {},
   "source": [
    "## Numba CUDA implementation\n",
    "\n",
    "Write the equivalent implementation for the GPU using Numba and CUDA.\n",
    "\n",
    "There are several possible implementation that could be tested.\n",
    "Some of them will be particularly problematic due to the way threads in a GPU are executed.\n",
    "\n",
    "Try to implement first the following configuration:\n",
    "- Write one single CUDA kernel that performs the evolution over all time steps  \n",
    "- Use a 2D grid of threads per block (max dimension `(32,32)` threads per block due to HW limitation)\n",
    "- Decide if (and where, if this is the case) to implement thread synchronization \n",
    "\n",
    "**WARNING** It's possible that in the case of naive implementations, the kernel run time exceeds 5s. This is however set as an hard limit by the Jetson Nano due to its inherent limitations, and the resulting application could thus fail with an error similar to:\n",
    "\n",
    "```c\n",
    "CudaAPIError: [702] Call to cuCtxSynchronize results in CUDA_ERROR_LAUNCH_TIMEOUT\n",
    "```\n",
    "\n",
    "Consider disabling the timeout by using the script provided under `/MCP/disable_timeout.sh`\n",
    "```bash\n",
    "sudo ./MCP/disable_timeout.sh\n",
    "```"
   ]
  },
  {
   "cell_type": "code",
   "execution_count": 10,
   "metadata": {},
   "outputs": [],
   "source": [
    "@cuda.jit\n",
    "def heat_equation_gpu(...):\n",
    "\n",
    "    ..."
   ]
  },
  {
   "cell_type": "code",
   "execution_count": 11,
   "metadata": {},
   "outputs": [],
   "source": [
    "# Transfer data to the GPU\n"
   ]
  },
  {
   "cell_type": "code",
   "execution_count": 12,
   "metadata": {},
   "outputs": [],
   "source": [
    "# Configure the thread grid for CUDA kernel launch\n"
   ]
  },
  {
   "cell_type": "code",
   "execution_count": 13,
   "metadata": {},
   "outputs": [],
   "source": [
    "num_steps = np.int32(time)  # Total number of time steps for the simulation\n",
    "\n",
    "# Launch the CUDA kernel on the GPU\n",
    "heat_equation_gpu[blocks_per_grid, threads_per_block](...)"
   ]
  },
  {
   "cell_type": "code",
   "execution_count": null,
   "metadata": {},
   "outputs": [],
   "source": [
    "# Copy the final temperature distribution back to the host\n",
    "T_final = ...\n",
    "\n",
    "# Display the final temperature distribution\n",
    "plt.imshow(T_final, cmap='coolwarm', vmin=T_chicken, vmax=T_oven)\n",
    "plt.colorbar(label=\"Temperature (°C)\")\n",
    "plt.title(\"Final Temperature Distribution of the Chicken After Cooking (GPU)\")\n",
    "plt.show()"
   ]
  },
  {
   "cell_type": "code",
   "execution_count": null,
   "metadata": {},
   "outputs": [],
   "source": [
    "# Display the final temperature distribution - With grids sized as the thread blocks\n",
    "plt.imshow(T_final, cmap='coolwarm', vmin=T_chicken, vmax=T_oven)\n",
    "\n",
    "ax = plt.gca()\n",
    "\n",
    "for x in range(-1, image.shape[1], BLOCK_SIZE):\n",
    "    ax.axvline(x=x, color='grey', linestyle='-', linewidth=0.5)\n",
    "for y in range(-1, image.shape[0], BLOCK_SIZE):\n",
    "    ax.axhline(y=y, color='grey', linestyle='-', linewidth=0.5)\n",
    "\n",
    "plt.xlim(0,T_final.shape[0])\n",
    "plt.ylim(T_final.shape[1],0)\n",
    "\n",
    "plt.colorbar()"
   ]
  },
  {
   "cell_type": "markdown",
   "metadata": {},
   "source": [
    "## Numba CUDA Alternative Implementation\n",
    "\n",
    "In the naive CUDA implementation, all timesteps are processed within a single kernel launch, with each thread performing the update calculations for each time step and synchronizing after each step. This approach leads to several potential issues, one of the most visible ones being the boundary conditions of each block acting as the \"limit\" for the heat exchange computation.\n",
    "\n",
    "In this case, try to implement alternative solutions for this problem, by reverting to a simpler approach:\n",
    "- Write a simpler kernel to perform individual timesteps on the device\n",
    "- Loop over the timesteps at host-side and execute the kernel to produce the new Temperature map\n",
    "- Synchronize the device before performing the next step with `cuda.synchronize()`\n",
    "- Swap the _new_ and _old_ Temperature maps to avoid allocating new memory"
   ]
  },
  {
   "cell_type": "code",
   "execution_count": 21,
   "metadata": {},
   "outputs": [],
   "source": [
    "# Numba CUDA kernel function for a single time step of the heat equation\n",
    "@cuda.jit\n",
    "def heat_equation_gpu_1step(...):\n",
    "\n",
    "    ..."
   ]
  },
  {
   "cell_type": "code",
   "execution_count": 22,
   "metadata": {},
   "outputs": [],
   "source": [
    "# Transfer data to the GPU\n"
   ]
  },
  {
   "cell_type": "code",
   "execution_count": 23,
   "metadata": {},
   "outputs": [],
   "source": [
    "# Loop over time steps, updating the temperature distribution\n",
    "for step in range(num_steps):\n",
    "    # Launch the kernel for a single time step\n",
    "    heat_equation_gpu_1step[blocks_per_grid, threads_per_block](...)    \n",
    "    \n",
    "    # Synchronize the device to ensure the kernel execution is complete\n",
    "    cuda.synchronize()\n",
    "    \n",
    "    # Swap the new and previous temperature matrices for the next time step\n"
   ]
  },
  {
   "cell_type": "code",
   "execution_count": null,
   "metadata": {},
   "outputs": [],
   "source": [
    "# Copy the final temperature distribution back to the host\n",
    "T_final = ...\n",
    "\n",
    "# Display the final temperature distribution\n",
    "plt.imshow(T_final, cmap='coolwarm', vmin=T_chicken, vmax=T_oven)\n",
    "plt.colorbar(label=\"Temperature (°C)\")\n",
    "plt.title(\"Final Temperature Distribution of the Chicken After Cooking (GPU)\")\n",
    "plt.show()"
   ]
  }
 ],
 "metadata": {
  "kernelspec": {
   "display_name": "mcp",
   "language": "python",
   "name": "python3"
  },
  "language_info": {
   "codemirror_mode": {
    "name": "ipython",
    "version": 3
   },
   "file_extension": ".py",
   "mimetype": "text/x-python",
   "name": "python",
   "nbconvert_exporter": "python",
   "pygments_lexer": "ipython3",
   "version": "3.9.10"
  }
 },
 "nbformat": 4,
 "nbformat_minor": 2
}
